{
 "cells": [
  {
   "cell_type": "code",
   "execution_count": 333,
   "id": "72dcc8ea-4869-4152-8e25-3ec8926d8412",
   "metadata": {},
   "outputs": [],
   "source": [
    "import pandas as pd\n",
    "import numpy as np\n",
    "\n",
    "from sklearn.model_selection import train_test_split\n",
    "from sklearn.impute import SimpleImputer\n",
    "from sklearn.preprocessing import StandardScaler, OneHotEncoder, LabelEncoder\n",
    "from sklearn.ensemble import RandomForestClassifier\n",
    "from sklearn.metrics import accuracy_score\n",
    "\n",
    "import xgboost as xgb\n",
    "\n",
    "from hyperopt import fmin, tpe, hp, STATUS_OK, Trials\n",
    "from hyperopt.pyll import scope"
   ]
  },
  {
   "cell_type": "code",
   "execution_count": 291,
   "id": "897720e8-3638-444f-8595-9c9c33277554",
   "metadata": {},
   "outputs": [
    {
     "name": "stderr",
     "output_type": "stream",
     "text": [
      "C:\\Users\\malis\\AppData\\Local\\Temp\\ipykernel_5532\\384884337.py:1: DtypeWarning: Columns (3,4,5) have mixed types. Specify dtype option on import or set low_memory=False.\n",
      "  data = pd.read_csv('train_kaggle.csv')\n"
     ]
    }
   ],
   "source": [
    "data = pd.read_csv('train_kaggle.csv')"
   ]
  },
  {
   "cell_type": "code",
   "execution_count": 292,
   "id": "38bcd932-7e40-4004-a53c-97aef034e736",
   "metadata": {
    "scrolled": true
   },
   "outputs": [
    {
     "data": {
      "text/html": [
       "<div>\n",
       "<style scoped>\n",
       "    .dataframe tbody tr th:only-of-type {\n",
       "        vertical-align: middle;\n",
       "    }\n",
       "\n",
       "    .dataframe tbody tr th {\n",
       "        vertical-align: top;\n",
       "    }\n",
       "\n",
       "    .dataframe thead th {\n",
       "        text-align: right;\n",
       "    }\n",
       "</style>\n",
       "<table border=\"1\" class=\"dataframe\">\n",
       "  <thead>\n",
       "    <tr style=\"text-align: right;\">\n",
       "      <th></th>\n",
       "      <th>Customer_ID</th>\n",
       "      <th>outlet_city</th>\n",
       "      <th>luxury_sales</th>\n",
       "      <th>fresh_sales</th>\n",
       "      <th>dry_sales</th>\n",
       "      <th>cluster_catgeory</th>\n",
       "    </tr>\n",
       "  </thead>\n",
       "  <tbody>\n",
       "    <tr>\n",
       "      <th>0</th>\n",
       "      <td>10493832.0</td>\n",
       "      <td>Kelaniya</td>\n",
       "      <td>1209.6</td>\n",
       "      <td>756.0</td>\n",
       "      <td>5292.0</td>\n",
       "      <td>4</td>\n",
       "    </tr>\n",
       "    <tr>\n",
       "      <th>1</th>\n",
       "      <td>10178643.0</td>\n",
       "      <td>Moratuwa</td>\n",
       "      <td>1590.12</td>\n",
       "      <td>1060.08</td>\n",
       "      <td>6007.12</td>\n",
       "      <td>1</td>\n",
       "    </tr>\n",
       "    <tr>\n",
       "      <th>2</th>\n",
       "      <td>10513916.0</td>\n",
       "      <td>Wattala</td>\n",
       "      <td>2288.88</td>\n",
       "      <td>1481.04</td>\n",
       "      <td>9155.52</td>\n",
       "      <td>4</td>\n",
       "    </tr>\n",
       "    <tr>\n",
       "      <th>3</th>\n",
       "      <td>10334589.0</td>\n",
       "      <td>Wattala</td>\n",
       "      <td>2274.94</td>\n",
       "      <td>1739.66</td>\n",
       "      <td>9099.76</td>\n",
       "      <td>4</td>\n",
       "    </tr>\n",
       "    <tr>\n",
       "      <th>4</th>\n",
       "      <td>10458365.0</td>\n",
       "      <td>Kelaniya</td>\n",
       "      <td>2345.49</td>\n",
       "      <td>2069.55</td>\n",
       "      <td>9243.99</td>\n",
       "      <td>4</td>\n",
       "    </tr>\n",
       "    <tr>\n",
       "      <th>...</th>\n",
       "      <td>...</td>\n",
       "      <td>...</td>\n",
       "      <td>...</td>\n",
       "      <td>...</td>\n",
       "      <td>...</td>\n",
       "      <td>...</td>\n",
       "    </tr>\n",
       "    <tr>\n",
       "      <th>774150</th>\n",
       "      <td>10197979.0</td>\n",
       "      <td>Gampaha</td>\n",
       "      <td>3893.4</td>\n",
       "      <td>3893.4</td>\n",
       "      <td>3448.44</td>\n",
       "      <td>3</td>\n",
       "    </tr>\n",
       "    <tr>\n",
       "      <th>774151</th>\n",
       "      <td>10494575.0</td>\n",
       "      <td>Katunayake</td>\n",
       "      <td>6095.86</td>\n",
       "      <td>5557.99</td>\n",
       "      <td>6275.15</td>\n",
       "      <td>3</td>\n",
       "    </tr>\n",
       "    <tr>\n",
       "      <th>774152</th>\n",
       "      <td>10565682.0</td>\n",
       "      <td>Colombo</td>\n",
       "      <td>5121.42</td>\n",
       "      <td>4820.16</td>\n",
       "      <td>4669.53</td>\n",
       "      <td>3</td>\n",
       "    </tr>\n",
       "    <tr>\n",
       "      <th>774153</th>\n",
       "      <td>10351977.0</td>\n",
       "      <td>Kandy</td>\n",
       "      <td>6311.76</td>\n",
       "      <td>6311.76</td>\n",
       "      <td>5940.48</td>\n",
       "      <td>3</td>\n",
       "    </tr>\n",
       "    <tr>\n",
       "      <th>774154</th>\n",
       "      <td>10637635.0</td>\n",
       "      <td>Negombo</td>\n",
       "      <td>5833.5</td>\n",
       "      <td>6027.95</td>\n",
       "      <td>6611.3</td>\n",
       "      <td>3</td>\n",
       "    </tr>\n",
       "  </tbody>\n",
       "</table>\n",
       "<p>774155 rows × 6 columns</p>\n",
       "</div>"
      ],
      "text/plain": [
       "        Customer_ID outlet_city luxury_sales fresh_sales dry_sales  \\\n",
       "0        10493832.0    Kelaniya       1209.6       756.0    5292.0   \n",
       "1        10178643.0    Moratuwa      1590.12     1060.08   6007.12   \n",
       "2        10513916.0     Wattala      2288.88     1481.04   9155.52   \n",
       "3        10334589.0     Wattala      2274.94     1739.66   9099.76   \n",
       "4        10458365.0    Kelaniya      2345.49     2069.55   9243.99   \n",
       "...             ...         ...          ...         ...       ...   \n",
       "774150   10197979.0     Gampaha       3893.4      3893.4   3448.44   \n",
       "774151   10494575.0  Katunayake      6095.86     5557.99   6275.15   \n",
       "774152   10565682.0     Colombo      5121.42     4820.16   4669.53   \n",
       "774153   10351977.0       Kandy      6311.76     6311.76   5940.48   \n",
       "774154   10637635.0     Negombo       5833.5     6027.95    6611.3   \n",
       "\n",
       "       cluster_catgeory  \n",
       "0                     4  \n",
       "1                     1  \n",
       "2                     4  \n",
       "3                     4  \n",
       "4                     4  \n",
       "...                 ...  \n",
       "774150                3  \n",
       "774151                3  \n",
       "774152                3  \n",
       "774153                3  \n",
       "774154                3  \n",
       "\n",
       "[774155 rows x 6 columns]"
      ]
     },
     "execution_count": 292,
     "metadata": {},
     "output_type": "execute_result"
    }
   ],
   "source": [
    "data"
   ]
  },
  {
   "cell_type": "code",
   "execution_count": 293,
   "id": "a7ba6ce2-6817-4add-8548-210b3ab30900",
   "metadata": {
    "scrolled": true
   },
   "outputs": [
    {
     "data": {
      "text/plain": [
       "Customer_ID         float64\n",
       "outlet_city          object\n",
       "luxury_sales         object\n",
       "fresh_sales          object\n",
       "dry_sales            object\n",
       "cluster_catgeory     object\n",
       "dtype: object"
      ]
     },
     "execution_count": 293,
     "metadata": {},
     "output_type": "execute_result"
    }
   ],
   "source": [
    "data.dtypes"
   ]
  },
  {
   "cell_type": "code",
   "execution_count": 294,
   "id": "9be623de-f823-43f1-b965-1c0b1f6b619c",
   "metadata": {},
   "outputs": [],
   "source": [
    "df = data.copy()"
   ]
  },
  {
   "cell_type": "code",
   "execution_count": 295,
   "id": "b394685c-b038-40a6-8e0a-1dfc3573215f",
   "metadata": {},
   "outputs": [
    {
     "data": {
      "text/plain": [
       "Customer_ID          2\n",
       "outlet_city          2\n",
       "luxury_sales        35\n",
       "fresh_sales         41\n",
       "dry_sales           30\n",
       "cluster_catgeory     1\n",
       "dtype: int64"
      ]
     },
     "execution_count": 295,
     "metadata": {},
     "output_type": "execute_result"
    }
   ],
   "source": [
    "df.isna().sum()"
   ]
  },
  {
   "cell_type": "code",
   "execution_count": 296,
   "id": "f9277656-aba5-409f-ba44-6b8c478d5477",
   "metadata": {
    "scrolled": true
   },
   "outputs": [
    {
     "name": "stdout",
     "output_type": "stream",
     "text": [
      "Column: Customer_ID\n",
      "Customer_ID\n",
      "10493832.0    1\n",
      "10305453.0    1\n",
      "10129880.0    1\n",
      "10677155.0    1\n",
      "10434221.0    1\n",
      "             ..\n",
      "10177319.0    1\n",
      "10045425.0    1\n",
      "10372098.0    1\n",
      "10066739.0    1\n",
      "10637635.0    1\n",
      "Name: count, Length: 774153, dtype: int64\n",
      "\n",
      "Column: outlet_city\n",
      "outlet_city\n",
      "Colombo                   41031\n",
      "Batticaloa                41012\n",
      "Galle                     41010\n",
      "Kalmunai                  40711\n",
      "Negombo                   40703\n",
      "Jaffna                    40675\n",
      "Katunayake                40649\n",
      "Kandy                     40534\n",
      "Trincomalee               40528\n",
      "Gampaha                   40252\n",
      "Peliyagoda                37151\n",
      "Nuwara Eliya              37102\n",
      "Dehiwala-Mount Lavinia    36839\n",
      "Kotte                     36788\n",
      "Panadura                  36726\n",
      "Wattala                   36721\n",
      "Kaduwela                  36695\n",
      "Homagama                  36639\n",
      "Moratuwa                  36417\n",
      "Kelaniya                  35970\n",
      "Name: count, dtype: int64\n",
      "\n",
      "Column: luxury_sales\n",
      "luxury_sales\n",
      "1029.6     62\n",
      "1411.2     47\n",
      "1224       47\n",
      "1386       46\n",
      "1123.2     45\n",
      "           ..\n",
      "2518.24     1\n",
      "3231.52     1\n",
      "2138.8      1\n",
      "2852.47     1\n",
      "5833.5      1\n",
      "Name: count, Length: 143897, dtype: int64\n",
      "\n",
      "Column: fresh_sales\n",
      "fresh_sales\n",
      "4296.6     28\n",
      "6013.92    28\n",
      "6193.44    26\n",
      "1018.8     25\n",
      "8774.04    25\n",
      "           ..\n",
      "1544.9      1\n",
      "2910.0      1\n",
      "2937.15     1\n",
      "3107.0      1\n",
      "4820.16     1\n",
      "Name: count, Length: 257030, dtype: int64\n",
      "\n",
      "Column: dry_sales\n",
      "dry_sales\n",
      "9168.72    23\n",
      "3506.58    21\n",
      "5085.3     21\n",
      "7782.72    21\n",
      "4158.0     21\n",
      "           ..\n",
      "4090.54     1\n",
      "4220.48     1\n",
      "4625.7      1\n",
      "2594.25     1\n",
      "6611.3      1\n",
      "Name: count, Length: 270131, dtype: int64\n",
      "\n",
      "Column: cluster_catgeory\n",
      "cluster_catgeory\n",
      "1        188975\n",
      "6        169206\n",
      "2        155060\n",
      "4        131039\n",
      "3         48906\n",
      "4         41400\n",
      "5         39531\n",
      "5             9\n",
      "1             9\n",
      "6             8\n",
      "2             4\n",
      "3             1\n",
      "6\\            1\n",
      "95            1\n",
      "98            1\n",
      "99            1\n",
      "100.0         1\n",
      "89.0          1\n",
      "Name: count, dtype: int64\n",
      "\n"
     ]
    }
   ],
   "source": [
    "for column in df.columns:\n",
    "    print(\"Column:\", column)\n",
    "    print(df[column].value_counts())\n",
    "    print()"
   ]
  },
  {
   "cell_type": "code",
   "execution_count": 297,
   "id": "2ca521b6-0f51-4f76-a850-61eca7dee25c",
   "metadata": {},
   "outputs": [
    {
     "data": {
      "text/plain": [
       "array(['4', '1', '99', '2', '5', '3', '6', '6\\\\', 4, 2, 1, 95, 3, 98, 5,\n",
       "       6, nan, 100.0, 89.0], dtype=object)"
      ]
     },
     "execution_count": 297,
     "metadata": {},
     "output_type": "execute_result"
    }
   ],
   "source": [
    "df.cluster_catgeory.unique()"
   ]
  },
  {
   "cell_type": "code",
   "execution_count": 298,
   "id": "e1af3e68-906a-4e61-a535-052b1578af81",
   "metadata": {},
   "outputs": [],
   "source": [
    "df.loc[df[\"cluster_catgeory\"] == '6\\\\', \"cluster_catgeory\"] = 6"
   ]
  },
  {
   "cell_type": "code",
   "execution_count": 299,
   "id": "ab5c83cc-2999-4207-87f5-d2e86008007e",
   "metadata": {
    "scrolled": true
   },
   "outputs": [],
   "source": [
    "df[\"cluster_catgeory\"] = df[\"cluster_catgeory\"].fillna(0)"
   ]
  },
  {
   "cell_type": "code",
   "execution_count": 300,
   "id": "b03dd8da-bf0e-4db4-ae32-7dbcf6708ef8",
   "metadata": {},
   "outputs": [],
   "source": [
    "df[\"cluster_catgeory\"] = df[\"cluster_catgeory\"].astype(int)"
   ]
  },
  {
   "cell_type": "code",
   "execution_count": 301,
   "id": "822e7054-38a4-4153-b814-927fc84acfd8",
   "metadata": {},
   "outputs": [],
   "source": [
    "clusters = [1, 2, 3, 4, 5, 6]\n",
    "df = df[df[\"cluster_catgeory\"].isin(clusters)]"
   ]
  },
  {
   "cell_type": "code",
   "execution_count": 302,
   "id": "c8a3d544-d101-4f6f-ac69-614de02c76ba",
   "metadata": {},
   "outputs": [],
   "source": [
    "df[\"cluster_catgeory\"] = df[\"cluster_catgeory\"].astype(str)"
   ]
  },
  {
   "cell_type": "code",
   "execution_count": 303,
   "id": "5a95bbe8-6419-4c12-a495-6b3af1c47c3d",
   "metadata": {},
   "outputs": [],
   "source": [
    "df = df.dropna(subset=[\"outlet_city\"])"
   ]
  },
  {
   "cell_type": "code",
   "execution_count": 304,
   "id": "6e098011-cd81-4954-90dd-b0e4ad4afec4",
   "metadata": {},
   "outputs": [],
   "source": [
    "df = df.drop(\"Customer_ID\", axis=1)"
   ]
  },
  {
   "cell_type": "code",
   "execution_count": 305,
   "id": "0b56dc77-c59d-4638-806e-4a6836cae703",
   "metadata": {},
   "outputs": [],
   "source": [
    "def check(column):\n",
    "    words = []\n",
    "    for value in df[column]:\n",
    "        try:\n",
    "            # Attempt to convert the value to an integer\n",
    "            int_value = float(value)\n",
    "        except ValueError:\n",
    "            # If conversion fails, add the value to the list\n",
    "            #non_integer_values.append(value)\n",
    "            words.append(value)\n",
    "    return words"
   ]
  },
  {
   "cell_type": "code",
   "execution_count": 306,
   "id": "3ec738e0-e33e-4686-bd16-700b24fbd570",
   "metadata": {},
   "outputs": [],
   "source": [
    "# mapping values in luxury_sales\n",
    "luxury_words = check(\"luxury_sales\")\n",
    "luxury_nums = [1400.00, np.nan, np.nan, 800.00, 630.00, np.nan, 1200.00, 790.00, 3200.00, 4100.00]\n",
    "luxury_map = dict(zip(luxury_words, luxury_nums))"
   ]
  },
  {
   "cell_type": "code",
   "execution_count": 307,
   "id": "55e09c16-99cf-46d9-9ba2-2f694101e452",
   "metadata": {},
   "outputs": [
    {
     "data": {
      "text/plain": [
       "{'One thousand four hundread ruppes': 1400.0,\n",
       " 'nul': nan,\n",
       " 'Eight hundread ruppess': 800.0,\n",
       " 'six hundread and hirty ': 630.0,\n",
       " 'Thousand tow hundread ': 1200.0,\n",
       " 'seven hundread and nine ruppees': 790.0,\n",
       " 'Three thousand two hundread ruppess': 3200.0,\n",
       " 'Four thousand one hundread ruppess': 4100.0}"
      ]
     },
     "execution_count": 307,
     "metadata": {},
     "output_type": "execute_result"
    }
   ],
   "source": [
    "luxury_map"
   ]
  },
  {
   "cell_type": "code",
   "execution_count": 308,
   "id": "6071a09d-86d4-40a7-b8d9-31a6087baf40",
   "metadata": {},
   "outputs": [],
   "source": [
    "df[\"luxury_sales\"] = df[\"luxury_sales\"].replace(to_replace = luxury_map)"
   ]
  },
  {
   "cell_type": "code",
   "execution_count": 309,
   "id": "045ff231-9239-4098-8e35-34e669c3a2e9",
   "metadata": {},
   "outputs": [],
   "source": [
    "# mapping values in fresh_sales\n",
    "fresh_words = check(\"fresh_sales\")\n",
    "fresh_nums = [605.00, np.nan, np.nan, 3500.00, np.nan, np.nan, 13000.00, 5000.00, 2700.00]\n",
    "fresh_map = dict(zip(fresh_words, fresh_nums))"
   ]
  },
  {
   "cell_type": "code",
   "execution_count": 310,
   "id": "6ca28045-9910-4a7b-8621-6399b8566063",
   "metadata": {},
   "outputs": [
    {
     "data": {
      "text/plain": [
       "{'Six hundread and five ruppes': 605.0,\n",
       " 'nul': nan,\n",
       " 'Three thousana and five hundread': 3500.0,\n",
       " 'thirteen thousand ruppes': 13000.0,\n",
       " 'Five thousand ruppes': 5000.0,\n",
       " 'Two thousand seven hundread ruppess': 2700.0}"
      ]
     },
     "execution_count": 310,
     "metadata": {},
     "output_type": "execute_result"
    }
   ],
   "source": [
    "fresh_map"
   ]
  },
  {
   "cell_type": "code",
   "execution_count": 311,
   "id": "cc66f8b5-a7ee-470f-ac72-074ea0d2872c",
   "metadata": {},
   "outputs": [],
   "source": [
    "df[\"fresh_sales\"] = df[\"fresh_sales\"].replace(to_replace = fresh_map)"
   ]
  },
  {
   "cell_type": "code",
   "execution_count": 312,
   "id": "3e27712a-dbfc-4c05-b2fa-e0db54f46a1a",
   "metadata": {},
   "outputs": [],
   "source": [
    "# mapping values in dry_sales\n",
    "dry_words = check(\"dry_sales\")\n",
    "dry_nums = [4200.00, np.nan, np.nan, np.nan, np.nan, np.nan, np.nan, np.nan]\n",
    "dry_map = dict(zip(dry_words, dry_nums))"
   ]
  },
  {
   "cell_type": "code",
   "execution_count": 313,
   "id": "d32e2cb0-1ed3-435d-a88e-7d6f05daa5a3",
   "metadata": {},
   "outputs": [
    {
     "data": {
      "text/plain": [
       "{'Four thousand and two hundread ruppes': 4200.0, 'nul': nan}"
      ]
     },
     "execution_count": 313,
     "metadata": {},
     "output_type": "execute_result"
    }
   ],
   "source": [
    "dry_map"
   ]
  },
  {
   "cell_type": "code",
   "execution_count": 314,
   "id": "578c4b56-8efd-4803-bb4f-63a8b930a370",
   "metadata": {},
   "outputs": [],
   "source": [
    "df[\"dry_sales\"] = df[\"dry_sales\"].replace(to_replace = dry_map)"
   ]
  },
  {
   "cell_type": "code",
   "execution_count": 315,
   "id": "e6406ab2-001f-4e14-ac61-67b5a2da2060",
   "metadata": {},
   "outputs": [],
   "source": [
    "df[[\"luxury_sales\", \"fresh_sales\", \"dry_sales\"]] = df[[\"luxury_sales\", \"fresh_sales\", \"dry_sales\"]].astype(float)"
   ]
  },
  {
   "cell_type": "code",
   "execution_count": 316,
   "id": "aa0e7e02-506a-4614-bdea-c53c3359684c",
   "metadata": {},
   "outputs": [],
   "source": [
    "df.reset_index(inplace=True, drop=True)"
   ]
  },
  {
   "cell_type": "code",
   "execution_count": 317,
   "id": "d56490dc-eecd-4e22-83ea-b5f1ef7bcbba",
   "metadata": {},
   "outputs": [
    {
     "name": "stdout",
     "output_type": "stream",
     "text": [
      "<class 'pandas.core.frame.DataFrame'>\n",
      "RangeIndex: 774147 entries, 0 to 774146\n",
      "Data columns (total 5 columns):\n",
      " #   Column            Non-Null Count   Dtype  \n",
      "---  ------            --------------   -----  \n",
      " 0   outlet_city       774147 non-null  object \n",
      " 1   luxury_sales      774109 non-null  float64\n",
      " 2   fresh_sales       774102 non-null  float64\n",
      " 3   dry_sales         774110 non-null  float64\n",
      " 4   cluster_catgeory  774147 non-null  object \n",
      "dtypes: float64(3), object(2)\n",
      "memory usage: 29.5+ MB\n"
     ]
    }
   ],
   "source": [
    "df.info()"
   ]
  },
  {
   "cell_type": "code",
   "execution_count": 318,
   "id": "d27916ba-12f7-41d7-921d-6e0ada0e6316",
   "metadata": {},
   "outputs": [
    {
     "data": {
      "text/plain": [
       "outlet_city          0\n",
       "luxury_sales        38\n",
       "fresh_sales         45\n",
       "dry_sales           37\n",
       "cluster_catgeory     0\n",
       "dtype: int64"
      ]
     },
     "execution_count": 318,
     "metadata": {},
     "output_type": "execute_result"
    }
   ],
   "source": [
    "df.isna().sum()"
   ]
  },
  {
   "cell_type": "code",
   "execution_count": 319,
   "id": "f0643d24-c163-40ad-846b-49842a25a6e9",
   "metadata": {},
   "outputs": [
    {
     "data": {
      "text/html": [
       "<div>\n",
       "<style scoped>\n",
       "    .dataframe tbody tr th:only-of-type {\n",
       "        vertical-align: middle;\n",
       "    }\n",
       "\n",
       "    .dataframe tbody tr th {\n",
       "        vertical-align: top;\n",
       "    }\n",
       "\n",
       "    .dataframe thead th {\n",
       "        text-align: right;\n",
       "    }\n",
       "</style>\n",
       "<table border=\"1\" class=\"dataframe\">\n",
       "  <thead>\n",
       "    <tr style=\"text-align: right;\">\n",
       "      <th></th>\n",
       "      <th>luxury_sales</th>\n",
       "      <th>fresh_sales</th>\n",
       "      <th>dry_sales</th>\n",
       "    </tr>\n",
       "  </thead>\n",
       "  <tbody>\n",
       "    <tr>\n",
       "      <th>0</th>\n",
       "      <td>1748.637921</td>\n",
       "      <td>1249.938813</td>\n",
       "      <td>6742.625732</td>\n",
       "    </tr>\n",
       "    <tr>\n",
       "      <th>1</th>\n",
       "      <td>1563.119268</td>\n",
       "      <td>2188.484420</td>\n",
       "      <td>8436.597969</td>\n",
       "    </tr>\n",
       "    <tr>\n",
       "      <th>2</th>\n",
       "      <td>1748.637921</td>\n",
       "      <td>1249.938813</td>\n",
       "      <td>6742.625732</td>\n",
       "    </tr>\n",
       "    <tr>\n",
       "      <th>3</th>\n",
       "      <td>1748.637921</td>\n",
       "      <td>1249.938813</td>\n",
       "      <td>6742.625732</td>\n",
       "    </tr>\n",
       "    <tr>\n",
       "      <th>4</th>\n",
       "      <td>1748.637921</td>\n",
       "      <td>1249.938813</td>\n",
       "      <td>6742.625732</td>\n",
       "    </tr>\n",
       "    <tr>\n",
       "      <th>...</th>\n",
       "      <td>...</td>\n",
       "      <td>...</td>\n",
       "      <td>...</td>\n",
       "    </tr>\n",
       "    <tr>\n",
       "      <th>774142</th>\n",
       "      <td>4070.673250</td>\n",
       "      <td>4071.420139</td>\n",
       "      <td>4069.969537</td>\n",
       "    </tr>\n",
       "    <tr>\n",
       "      <th>774143</th>\n",
       "      <td>4070.673250</td>\n",
       "      <td>4071.420139</td>\n",
       "      <td>4069.969537</td>\n",
       "    </tr>\n",
       "    <tr>\n",
       "      <th>774144</th>\n",
       "      <td>4070.673250</td>\n",
       "      <td>4071.420139</td>\n",
       "      <td>4069.969537</td>\n",
       "    </tr>\n",
       "    <tr>\n",
       "      <th>774145</th>\n",
       "      <td>4070.673250</td>\n",
       "      <td>4071.420139</td>\n",
       "      <td>4069.969537</td>\n",
       "    </tr>\n",
       "    <tr>\n",
       "      <th>774146</th>\n",
       "      <td>4070.673250</td>\n",
       "      <td>4071.420139</td>\n",
       "      <td>4069.969537</td>\n",
       "    </tr>\n",
       "  </tbody>\n",
       "</table>\n",
       "<p>774147 rows × 3 columns</p>\n",
       "</div>"
      ],
      "text/plain": [
       "        luxury_sales  fresh_sales    dry_sales\n",
       "0        1748.637921  1249.938813  6742.625732\n",
       "1        1563.119268  2188.484420  8436.597969\n",
       "2        1748.637921  1249.938813  6742.625732\n",
       "3        1748.637921  1249.938813  6742.625732\n",
       "4        1748.637921  1249.938813  6742.625732\n",
       "...              ...          ...          ...\n",
       "774142   4070.673250  4071.420139  4069.969537\n",
       "774143   4070.673250  4071.420139  4069.969537\n",
       "774144   4070.673250  4071.420139  4069.969537\n",
       "774145   4070.673250  4071.420139  4069.969537\n",
       "774146   4070.673250  4071.420139  4069.969537\n",
       "\n",
       "[774147 rows x 3 columns]"
      ]
     },
     "execution_count": 319,
     "metadata": {},
     "output_type": "execute_result"
    }
   ],
   "source": [
    "df.groupby(\"cluster_catgeory\")[[\"luxury_sales\", \"fresh_sales\", \"dry_sales\"]].transform('mean')"
   ]
  },
  {
   "cell_type": "code",
   "execution_count": 320,
   "id": "f475bfa8-1c09-46bb-aa40-662c69763e37",
   "metadata": {},
   "outputs": [],
   "source": [
    "X = df.drop(\"cluster_catgeory\", axis=1).copy()\n",
    "y = df[\"cluster_catgeory\"]"
   ]
  },
  {
   "cell_type": "code",
   "execution_count": 321,
   "id": "70e33f9d-a5a8-4df6-b2ba-17e993b84866",
   "metadata": {},
   "outputs": [
    {
     "data": {
      "text/html": [
       "<div>\n",
       "<style scoped>\n",
       "    .dataframe tbody tr th:only-of-type {\n",
       "        vertical-align: middle;\n",
       "    }\n",
       "\n",
       "    .dataframe tbody tr th {\n",
       "        vertical-align: top;\n",
       "    }\n",
       "\n",
       "    .dataframe thead th {\n",
       "        text-align: right;\n",
       "    }\n",
       "</style>\n",
       "<table border=\"1\" class=\"dataframe\">\n",
       "  <thead>\n",
       "    <tr style=\"text-align: right;\">\n",
       "      <th></th>\n",
       "      <th>outlet_city</th>\n",
       "      <th>luxury_sales</th>\n",
       "      <th>fresh_sales</th>\n",
       "      <th>dry_sales</th>\n",
       "    </tr>\n",
       "  </thead>\n",
       "  <tbody>\n",
       "    <tr>\n",
       "      <th>0</th>\n",
       "      <td>Kelaniya</td>\n",
       "      <td>1209.60</td>\n",
       "      <td>756.00</td>\n",
       "      <td>5292.00</td>\n",
       "    </tr>\n",
       "    <tr>\n",
       "      <th>1</th>\n",
       "      <td>Moratuwa</td>\n",
       "      <td>1590.12</td>\n",
       "      <td>1060.08</td>\n",
       "      <td>6007.12</td>\n",
       "    </tr>\n",
       "    <tr>\n",
       "      <th>2</th>\n",
       "      <td>Wattala</td>\n",
       "      <td>2288.88</td>\n",
       "      <td>1481.04</td>\n",
       "      <td>9155.52</td>\n",
       "    </tr>\n",
       "    <tr>\n",
       "      <th>3</th>\n",
       "      <td>Wattala</td>\n",
       "      <td>2274.94</td>\n",
       "      <td>1739.66</td>\n",
       "      <td>9099.76</td>\n",
       "    </tr>\n",
       "    <tr>\n",
       "      <th>4</th>\n",
       "      <td>Kelaniya</td>\n",
       "      <td>2345.49</td>\n",
       "      <td>2069.55</td>\n",
       "      <td>9243.99</td>\n",
       "    </tr>\n",
       "    <tr>\n",
       "      <th>...</th>\n",
       "      <td>...</td>\n",
       "      <td>...</td>\n",
       "      <td>...</td>\n",
       "      <td>...</td>\n",
       "    </tr>\n",
       "    <tr>\n",
       "      <th>774142</th>\n",
       "      <td>Gampaha</td>\n",
       "      <td>3893.40</td>\n",
       "      <td>3893.40</td>\n",
       "      <td>3448.44</td>\n",
       "    </tr>\n",
       "    <tr>\n",
       "      <th>774143</th>\n",
       "      <td>Katunayake</td>\n",
       "      <td>6095.86</td>\n",
       "      <td>5557.99</td>\n",
       "      <td>6275.15</td>\n",
       "    </tr>\n",
       "    <tr>\n",
       "      <th>774144</th>\n",
       "      <td>Colombo</td>\n",
       "      <td>5121.42</td>\n",
       "      <td>4820.16</td>\n",
       "      <td>4669.53</td>\n",
       "    </tr>\n",
       "    <tr>\n",
       "      <th>774145</th>\n",
       "      <td>Kandy</td>\n",
       "      <td>6311.76</td>\n",
       "      <td>6311.76</td>\n",
       "      <td>5940.48</td>\n",
       "    </tr>\n",
       "    <tr>\n",
       "      <th>774146</th>\n",
       "      <td>Negombo</td>\n",
       "      <td>5833.50</td>\n",
       "      <td>6027.95</td>\n",
       "      <td>6611.30</td>\n",
       "    </tr>\n",
       "  </tbody>\n",
       "</table>\n",
       "<p>774147 rows × 4 columns</p>\n",
       "</div>"
      ],
      "text/plain": [
       "       outlet_city  luxury_sales  fresh_sales  dry_sales\n",
       "0         Kelaniya       1209.60       756.00    5292.00\n",
       "1         Moratuwa       1590.12      1060.08    6007.12\n",
       "2          Wattala       2288.88      1481.04    9155.52\n",
       "3          Wattala       2274.94      1739.66    9099.76\n",
       "4         Kelaniya       2345.49      2069.55    9243.99\n",
       "...            ...           ...          ...        ...\n",
       "774142     Gampaha       3893.40      3893.40    3448.44\n",
       "774143  Katunayake       6095.86      5557.99    6275.15\n",
       "774144     Colombo       5121.42      4820.16    4669.53\n",
       "774145       Kandy       6311.76      6311.76    5940.48\n",
       "774146     Negombo       5833.50      6027.95    6611.30\n",
       "\n",
       "[774147 rows x 4 columns]"
      ]
     },
     "execution_count": 321,
     "metadata": {},
     "output_type": "execute_result"
    }
   ],
   "source": [
    "X"
   ]
  },
  {
   "cell_type": "code",
   "execution_count": 322,
   "id": "fe11b67f-8cb0-45cf-8f9b-546d52b5c13c",
   "metadata": {},
   "outputs": [],
   "source": [
    "X_train, X_val, y_train, y_val = train_test_split(X, y, test_size=0.2, random_state=42, shuffle=True)"
   ]
  },
  {
   "cell_type": "code",
   "execution_count": 323,
   "id": "063f9bb2-47e3-4eb5-97f3-093c38fc1371",
   "metadata": {},
   "outputs": [
    {
     "data": {
      "text/plain": [
       "((619317, 4), (154830, 4))"
      ]
     },
     "execution_count": 323,
     "metadata": {},
     "output_type": "execute_result"
    }
   ],
   "source": [
    "X_train.shape, X_val.shape"
   ]
  },
  {
   "cell_type": "code",
   "execution_count": 324,
   "id": "cecd03ae-c381-4369-8472-8607f44b9487",
   "metadata": {
    "scrolled": true
   },
   "outputs": [
    {
     "name": "stdout",
     "output_type": "stream",
     "text": [
      "outlet_city      0\n",
      "luxury_sales    25\n",
      "fresh_sales     34\n",
      "dry_sales       31\n",
      "dtype: int64\n",
      "\n",
      "outlet_city      0\n",
      "luxury_sales    13\n",
      "fresh_sales     11\n",
      "dry_sales        6\n",
      "dtype: int64\n"
     ]
    }
   ],
   "source": [
    "print(X_train.isna().sum()) \n",
    "print()\n",
    "print(X_val.isna().sum())"
   ]
  },
  {
   "cell_type": "raw",
   "id": "45f33ce7-2c0e-4f8a-a278-1fc98fbcefdb",
   "metadata": {},
   "source": [
    "train = pd.concat([X_train, y_train], axis=1)\n",
    "mean_by_cat = train.groupby(\"cluster_catgeory\")[[\"luxury_sales\", \"fresh_sales\", \"dry_sales\"]].transform('mean')\n",
    "\n",
    "train[[\"luxury_sales\", \"fresh_sales\", \"dry_sales\"]] = train[[\"luxury_sales\", \"fresh_sales\", \"dry_sales\"]].fillna(mean_by_cat)\n",
    "\n",
    "X_train = train.drop('cluster_catgeory', axis=1)\n",
    "y_train = train[\"cluster_catgeory\"]"
   ]
  },
  {
   "cell_type": "code",
   "execution_count": 325,
   "id": "f10e61e0-b469-4230-ab2f-20862dbc00fb",
   "metadata": {},
   "outputs": [],
   "source": [
    "imputer = SimpleImputer(strategy='mean')\n",
    "scaler = StandardScaler()\n",
    "one_hot = OneHotEncoder(sparse_output=False)\n",
    "encoder = LabelEncoder()"
   ]
  },
  {
   "cell_type": "code",
   "execution_count": 326,
   "id": "ffa65e43-9a86-4ada-af55-058fbec5616b",
   "metadata": {},
   "outputs": [],
   "source": [
    "numerical = [\"luxury_sales\", \"fresh_sales\", \"dry_sales\"]\n",
    "categorical = [\"outlet_city\"]"
   ]
  },
  {
   "cell_type": "code",
   "execution_count": 327,
   "id": "566fbfef-cacc-43f7-91e2-06072f645db6",
   "metadata": {},
   "outputs": [],
   "source": [
    "X_train[numerical] = imputer.fit_transform(X_train[numerical])\n",
    "X_val[numerical] = imputer.transform(X_val[numerical])"
   ]
  },
  {
   "cell_type": "code",
   "execution_count": 328,
   "id": "d124acda-4b40-49bf-86ce-fb88fee6c593",
   "metadata": {},
   "outputs": [],
   "source": [
    "X_train[numerical] = scaler.fit_transform(X_train[numerical])\n",
    "X_val[numerical] = scaler.transform(X_val[numerical])"
   ]
  },
  {
   "cell_type": "code",
   "execution_count": 329,
   "id": "82afaee9-f1ad-40a5-be5f-4f239420b6e8",
   "metadata": {},
   "outputs": [],
   "source": [
    "temp = pd.DataFrame(one_hot.fit_transform(X_train[categorical]), columns=one_hot.get_feature_names_out(), index=X_train.index)\n",
    "X_train = pd.concat([X_train.drop(\"outlet_city\", axis=1), temp], axis=1)\n",
    "\n",
    "temp = pd.DataFrame(one_hot.transform(X_val[categorical]), columns=one_hot.get_feature_names_out(), index=X_val.index)\n",
    "X_val = pd.concat([X_val.drop(\"outlet_city\", axis=1), temp], axis=1)"
   ]
  },
  {
   "cell_type": "code",
   "execution_count": 336,
   "id": "eeccf198-58b4-483b-b875-09c0959813f9",
   "metadata": {},
   "outputs": [],
   "source": [
    "y_train = encoder.fit_transform(y_train)\n",
    "y_val = encoder.fit_transform(y_val)"
   ]
  },
  {
   "cell_type": "markdown",
   "id": "936bd4b6-dfe4-4c41-baa3-4268979f8e5e",
   "metadata": {},
   "source": [
    "# training"
   ]
  },
  {
   "cell_type": "code",
   "execution_count": 352,
   "id": "e42a90a4-5400-40e8-9d93-77a028ce8e1a",
   "metadata": {},
   "outputs": [],
   "source": [
    "def eval(model, y_val=y_val, y_train=y_train, X_val=X_val, X_train=X_train):\n",
    "    \n",
    "    y_pred_val = model.predict(X_val)\n",
    "    y_pred_train = model.predict(X_train)\n",
    "\n",
    "    val_acc = accuracy_score(y_val, y_pred_val)\n",
    "    train_acc  = accuracy_score(y_train, y_pred_train)\n",
    "\n",
    "    row = {'val_acc': val_acc,\n",
    "      'train_acc': train_acc}\n",
    "\n",
    "    return row"
   ]
  },
  {
   "cell_type": "markdown",
   "id": "69d68f77-3002-4f68-9d81-f480bf05791f",
   "metadata": {},
   "source": [
    "## xgboost"
   ]
  },
  {
   "cell_type": "code",
   "execution_count": 337,
   "id": "548170e9-f412-4ed3-90c2-b58af3a815f0",
   "metadata": {},
   "outputs": [],
   "source": [
    "train = xgb.DMatrix(X_train, label=y_train)\n",
    "valid = xgb.DMatrix(X_val, label=y_val)"
   ]
  },
  {
   "cell_type": "code",
   "execution_count": 348,
   "id": "3935255c-0a28-44b5-93fa-cb43a9780e1e",
   "metadata": {
    "collapsed": true,
    "jupyter": {
     "outputs_hidden": true
    },
    "scrolled": true
   },
   "outputs": [
    {
     "name": "stdout",
     "output_type": "stream",
     "text": [
      "[0]\ttrain-merror:0.16709\tvalid-merror:0.16853\n",
      "[1]\ttrain-merror:0.16918\tvalid-merror:0.17097\n",
      "[2]\ttrain-merror:0.13467\tvalid-merror:0.13488\n",
      "[3]\ttrain-merror:0.12665\tvalid-merror:0.12780\n",
      "[4]\ttrain-merror:0.12864\tvalid-merror:0.12924\n",
      "[5]\ttrain-merror:0.11917\tvalid-merror:0.12000\n",
      "[6]\ttrain-merror:0.10354\tvalid-merror:0.10437\n",
      "[7]\ttrain-merror:0.08792\tvalid-merror:0.08826\n",
      "[8]\ttrain-merror:0.09008\tvalid-merror:0.09017\n",
      "[9]\ttrain-merror:0.08159\tvalid-merror:0.08250\n",
      "[10]\ttrain-merror:0.07418\tvalid-merror:0.07502\n",
      "[11]\ttrain-merror:0.07256\tvalid-merror:0.07330\n",
      "[12]\ttrain-merror:0.06035\tvalid-merror:0.06063\n",
      "[13]\ttrain-merror:0.05799\tvalid-merror:0.05838\n",
      "[14]\ttrain-merror:0.05730\tvalid-merror:0.05762\n",
      "[15]\ttrain-merror:0.05432\tvalid-merror:0.05466\n",
      "[16]\ttrain-merror:0.05298\tvalid-merror:0.05343\n",
      "[17]\ttrain-merror:0.05131\tvalid-merror:0.05180\n",
      "[18]\ttrain-merror:0.04850\tvalid-merror:0.04914\n",
      "[19]\ttrain-merror:0.04614\tvalid-merror:0.04684\n",
      "[20]\ttrain-merror:0.04593\tvalid-merror:0.04634\n",
      "[21]\ttrain-merror:0.04257\tvalid-merror:0.04312\n",
      "[22]\ttrain-merror:0.03884\tvalid-merror:0.03933\n",
      "[23]\ttrain-merror:0.03651\tvalid-merror:0.03714\n",
      "[24]\ttrain-merror:0.03371\tvalid-merror:0.03400\n",
      "[25]\ttrain-merror:0.03200\tvalid-merror:0.03223\n",
      "[26]\ttrain-merror:0.03152\tvalid-merror:0.03200\n",
      "[27]\ttrain-merror:0.03052\tvalid-merror:0.03096\n",
      "[28]\ttrain-merror:0.02996\tvalid-merror:0.03030\n",
      "[29]\ttrain-merror:0.02892\tvalid-merror:0.02917\n",
      "[30]\ttrain-merror:0.02890\tvalid-merror:0.02914\n",
      "[31]\ttrain-merror:0.02823\tvalid-merror:0.02852\n",
      "[32]\ttrain-merror:0.02813\tvalid-merror:0.02853\n",
      "[33]\ttrain-merror:0.02694\tvalid-merror:0.02717\n",
      "[34]\ttrain-merror:0.02700\tvalid-merror:0.02737\n",
      "[35]\ttrain-merror:0.02779\tvalid-merror:0.02813\n",
      "[36]\ttrain-merror:0.02628\tvalid-merror:0.02656\n",
      "[37]\ttrain-merror:0.02631\tvalid-merror:0.02671\n",
      "[38]\ttrain-merror:0.02533\tvalid-merror:0.02557\n",
      "[39]\ttrain-merror:0.02350\tvalid-merror:0.02385\n",
      "[40]\ttrain-merror:0.02232\tvalid-merror:0.02273\n",
      "[41]\ttrain-merror:0.02222\tvalid-merror:0.02262\n",
      "[42]\ttrain-merror:0.02211\tvalid-merror:0.02252\n",
      "[43]\ttrain-merror:0.02136\tvalid-merror:0.02178\n",
      "[44]\ttrain-merror:0.02072\tvalid-merror:0.02109\n",
      "[45]\ttrain-merror:0.02036\tvalid-merror:0.02076\n",
      "[46]\ttrain-merror:0.01924\tvalid-merror:0.01976\n",
      "[47]\ttrain-merror:0.01872\tvalid-merror:0.01912\n",
      "[48]\ttrain-merror:0.01854\tvalid-merror:0.01894\n",
      "[49]\ttrain-merror:0.01812\tvalid-merror:0.01846\n",
      "[50]\ttrain-merror:0.01777\tvalid-merror:0.01812\n",
      "[51]\ttrain-merror:0.01757\tvalid-merror:0.01791\n",
      "[52]\ttrain-merror:0.01696\tvalid-merror:0.01740\n",
      "[53]\ttrain-merror:0.01631\tvalid-merror:0.01676\n",
      "[54]\ttrain-merror:0.01477\tvalid-merror:0.01540\n",
      "[55]\ttrain-merror:0.01431\tvalid-merror:0.01490\n",
      "[56]\ttrain-merror:0.01185\tvalid-merror:0.01278\n",
      "[57]\ttrain-merror:0.00918\tvalid-merror:0.01005\n",
      "[58]\ttrain-merror:0.00668\tvalid-merror:0.00757\n",
      "[59]\ttrain-merror:0.00464\tvalid-merror:0.00528\n",
      "[60]\ttrain-merror:0.00349\tvalid-merror:0.00390\n",
      "[61]\ttrain-merror:0.00325\tvalid-merror:0.00366\n",
      "[62]\ttrain-merror:0.00309\tvalid-merror:0.00349\n",
      "[63]\ttrain-merror:0.00296\tvalid-merror:0.00331\n",
      "[64]\ttrain-merror:0.00282\tvalid-merror:0.00318\n",
      "[65]\ttrain-merror:0.00260\tvalid-merror:0.00300\n",
      "[66]\ttrain-merror:0.00250\tvalid-merror:0.00283\n",
      "[67]\ttrain-merror:0.00238\tvalid-merror:0.00273\n",
      "[68]\ttrain-merror:0.00227\tvalid-merror:0.00262\n",
      "[69]\ttrain-merror:0.00214\tvalid-merror:0.00253\n",
      "[70]\ttrain-merror:0.00204\tvalid-merror:0.00249\n",
      "[71]\ttrain-merror:0.00200\tvalid-merror:0.00245\n",
      "[72]\ttrain-merror:0.00192\tvalid-merror:0.00236\n",
      "[73]\ttrain-merror:0.00184\tvalid-merror:0.00222\n",
      "[74]\ttrain-merror:0.00178\tvalid-merror:0.00215\n",
      "[75]\ttrain-merror:0.00169\tvalid-merror:0.00204\n",
      "[76]\ttrain-merror:0.00162\tvalid-merror:0.00192\n",
      "[77]\ttrain-merror:0.00156\tvalid-merror:0.00185\n",
      "[78]\ttrain-merror:0.00153\tvalid-merror:0.00177\n",
      "[79]\ttrain-merror:0.00149\tvalid-merror:0.00177\n",
      "[80]\ttrain-merror:0.00141\tvalid-merror:0.00170\n",
      "[81]\ttrain-merror:0.00135\tvalid-merror:0.00163\n",
      "[82]\ttrain-merror:0.00133\tvalid-merror:0.00156\n",
      "[83]\ttrain-merror:0.00130\tvalid-merror:0.00155\n",
      "[84]\ttrain-merror:0.00124\tvalid-merror:0.00149\n",
      "[85]\ttrain-merror:0.00120\tvalid-merror:0.00141\n",
      "[86]\ttrain-merror:0.00118\tvalid-merror:0.00138\n",
      "[87]\ttrain-merror:0.00113\tvalid-merror:0.00136\n",
      "[88]\ttrain-merror:0.00106\tvalid-merror:0.00133\n",
      "[89]\ttrain-merror:0.00103\tvalid-merror:0.00125\n",
      "[90]\ttrain-merror:0.00098\tvalid-merror:0.00115\n",
      "[91]\ttrain-merror:0.00096\tvalid-merror:0.00113\n",
      "[92]\ttrain-merror:0.00092\tvalid-merror:0.00108\n",
      "[93]\ttrain-merror:0.00089\tvalid-merror:0.00109\n",
      "[94]\ttrain-merror:0.00086\tvalid-merror:0.00104\n",
      "[95]\ttrain-merror:0.00083\tvalid-merror:0.00097\n",
      "[96]\ttrain-merror:0.00077\tvalid-merror:0.00093\n",
      "[97]\ttrain-merror:0.00075\tvalid-merror:0.00087\n",
      "[98]\ttrain-merror:0.00070\tvalid-merror:0.00080\n",
      "[99]\ttrain-merror:0.00064\tvalid-merror:0.00073\n",
      "[100]\ttrain-merror:0.00060\tvalid-merror:0.00066\n",
      "[101]\ttrain-merror:0.00055\tvalid-merror:0.00063\n",
      "[102]\ttrain-merror:0.00053\tvalid-merror:0.00060\n",
      "[103]\ttrain-merror:0.00049\tvalid-merror:0.00059\n",
      "[104]\ttrain-merror:0.00046\tvalid-merror:0.00053\n",
      "[105]\ttrain-merror:0.00043\tvalid-merror:0.00050\n",
      "[106]\ttrain-merror:0.00042\tvalid-merror:0.00050\n",
      "[107]\ttrain-merror:0.00040\tvalid-merror:0.00047\n",
      "[108]\ttrain-merror:0.00038\tvalid-merror:0.00044\n",
      "[109]\ttrain-merror:0.00037\tvalid-merror:0.00043\n",
      "[110]\ttrain-merror:0.00036\tvalid-merror:0.00041\n",
      "[111]\ttrain-merror:0.00033\tvalid-merror:0.00039\n",
      "[112]\ttrain-merror:0.00032\tvalid-merror:0.00039\n",
      "[113]\ttrain-merror:0.00031\tvalid-merror:0.00039\n",
      "[114]\ttrain-merror:0.00030\tvalid-merror:0.00039\n",
      "[115]\ttrain-merror:0.00030\tvalid-merror:0.00038\n",
      "[116]\ttrain-merror:0.00029\tvalid-merror:0.00036\n",
      "[117]\ttrain-merror:0.00029\tvalid-merror:0.00036\n",
      "[118]\ttrain-merror:0.00029\tvalid-merror:0.00036\n",
      "[119]\ttrain-merror:0.00029\tvalid-merror:0.00036\n",
      "[120]\ttrain-merror:0.00029\tvalid-merror:0.00036\n",
      "[121]\ttrain-merror:0.00028\tvalid-merror:0.00036\n",
      "[122]\ttrain-merror:0.00028\tvalid-merror:0.00035\n",
      "[123]\ttrain-merror:0.00028\tvalid-merror:0.00035\n",
      "[124]\ttrain-merror:0.00027\tvalid-merror:0.00035\n",
      "[125]\ttrain-merror:0.00027\tvalid-merror:0.00034\n",
      "[126]\ttrain-merror:0.00027\tvalid-merror:0.00034\n",
      "[127]\ttrain-merror:0.00027\tvalid-merror:0.00034\n",
      "[128]\ttrain-merror:0.00027\tvalid-merror:0.00034\n",
      "[129]\ttrain-merror:0.00027\tvalid-merror:0.00034\n",
      "[130]\ttrain-merror:0.00027\tvalid-merror:0.00033\n",
      "[131]\ttrain-merror:0.00026\tvalid-merror:0.00033\n",
      "[132]\ttrain-merror:0.00026\tvalid-merror:0.00033\n",
      "[133]\ttrain-merror:0.00026\tvalid-merror:0.00033\n",
      "[134]\ttrain-merror:0.00026\tvalid-merror:0.00033\n",
      "[135]\ttrain-merror:0.00026\tvalid-merror:0.00033\n",
      "[136]\ttrain-merror:0.00026\tvalid-merror:0.00033\n",
      "[137]\ttrain-merror:0.00026\tvalid-merror:0.00032\n",
      "[138]\ttrain-merror:0.00025\tvalid-merror:0.00032\n",
      "[139]\ttrain-merror:0.00025\tvalid-merror:0.00031\n",
      "[140]\ttrain-merror:0.00025\tvalid-merror:0.00031\n",
      "[141]\ttrain-merror:0.00025\tvalid-merror:0.00031\n",
      "[142]\ttrain-merror:0.00025\tvalid-merror:0.00031\n",
      "[143]\ttrain-merror:0.00025\tvalid-merror:0.00031\n",
      "[144]\ttrain-merror:0.00025\tvalid-merror:0.00031\n",
      "[145]\ttrain-merror:0.00025\tvalid-merror:0.00031\n",
      "[146]\ttrain-merror:0.00025\tvalid-merror:0.00031\n",
      "[147]\ttrain-merror:0.00025\tvalid-merror:0.00031\n",
      "[148]\ttrain-merror:0.00025\tvalid-merror:0.00030\n",
      "[149]\ttrain-merror:0.00025\tvalid-merror:0.00030\n",
      "[150]\ttrain-merror:0.00025\tvalid-merror:0.00030\n",
      "[151]\ttrain-merror:0.00025\tvalid-merror:0.00030\n",
      "[152]\ttrain-merror:0.00025\tvalid-merror:0.00030\n",
      "[153]\ttrain-merror:0.00025\tvalid-merror:0.00030\n",
      "[154]\ttrain-merror:0.00025\tvalid-merror:0.00030\n",
      "[155]\ttrain-merror:0.00025\tvalid-merror:0.00028\n",
      "[156]\ttrain-merror:0.00025\tvalid-merror:0.00028\n",
      "[157]\ttrain-merror:0.00025\tvalid-merror:0.00028\n",
      "[158]\ttrain-merror:0.00024\tvalid-merror:0.00028\n",
      "[159]\ttrain-merror:0.00024\tvalid-merror:0.00028\n",
      "[160]\ttrain-merror:0.00024\tvalid-merror:0.00028\n",
      "[161]\ttrain-merror:0.00024\tvalid-merror:0.00028\n",
      "[162]\ttrain-merror:0.00024\tvalid-merror:0.00028\n",
      "[163]\ttrain-merror:0.00024\tvalid-merror:0.00028\n",
      "[164]\ttrain-merror:0.00024\tvalid-merror:0.00028\n",
      "[165]\ttrain-merror:0.00024\tvalid-merror:0.00028\n",
      "[166]\ttrain-merror:0.00024\tvalid-merror:0.00028\n",
      "[167]\ttrain-merror:0.00024\tvalid-merror:0.00028\n",
      "[168]\ttrain-merror:0.00024\tvalid-merror:0.00028\n",
      "[169]\ttrain-merror:0.00024\tvalid-merror:0.00028\n",
      "[170]\ttrain-merror:0.00024\tvalid-merror:0.00028\n",
      "[171]\ttrain-merror:0.00024\tvalid-merror:0.00028\n",
      "[172]\ttrain-merror:0.00024\tvalid-merror:0.00027\n",
      "[173]\ttrain-merror:0.00024\tvalid-merror:0.00027\n",
      "[174]\ttrain-merror:0.00024\tvalid-merror:0.00027\n",
      "[175]\ttrain-merror:0.00024\tvalid-merror:0.00027\n",
      "[176]\ttrain-merror:0.00024\tvalid-merror:0.00027\n",
      "[177]\ttrain-merror:0.00024\tvalid-merror:0.00027\n",
      "[178]\ttrain-merror:0.00024\tvalid-merror:0.00026\n",
      "[179]\ttrain-merror:0.00024\tvalid-merror:0.00026\n",
      "[180]\ttrain-merror:0.00024\tvalid-merror:0.00026\n",
      "[181]\ttrain-merror:0.00024\tvalid-merror:0.00026\n",
      "[182]\ttrain-merror:0.00024\tvalid-merror:0.00026\n",
      "[183]\ttrain-merror:0.00024\tvalid-merror:0.00026\n",
      "[184]\ttrain-merror:0.00024\tvalid-merror:0.00026\n",
      "[185]\ttrain-merror:0.00024\tvalid-merror:0.00026\n",
      "[186]\ttrain-merror:0.00024\tvalid-merror:0.00026\n",
      "[187]\ttrain-merror:0.00024\tvalid-merror:0.00026\n",
      "[188]\ttrain-merror:0.00024\tvalid-merror:0.00026\n",
      "[189]\ttrain-merror:0.00024\tvalid-merror:0.00026\n",
      "[190]\ttrain-merror:0.00023\tvalid-merror:0.00026\n",
      "[191]\ttrain-merror:0.00023\tvalid-merror:0.00026\n",
      "[192]\ttrain-merror:0.00023\tvalid-merror:0.00026\n",
      "[193]\ttrain-merror:0.00023\tvalid-merror:0.00026\n",
      "[194]\ttrain-merror:0.00023\tvalid-merror:0.00026\n",
      "[195]\ttrain-merror:0.00023\tvalid-merror:0.00026\n",
      "[196]\ttrain-merror:0.00023\tvalid-merror:0.00026\n",
      "[197]\ttrain-merror:0.00023\tvalid-merror:0.00026\n",
      "[198]\ttrain-merror:0.00023\tvalid-merror:0.00026\n",
      "[199]\ttrain-merror:0.00023\tvalid-merror:0.00026\n",
      "[200]\ttrain-merror:0.00023\tvalid-merror:0.00026\n",
      "[201]\ttrain-merror:0.00023\tvalid-merror:0.00026\n",
      "[202]\ttrain-merror:0.00023\tvalid-merror:0.00026\n",
      "[203]\ttrain-merror:0.00023\tvalid-merror:0.00026\n",
      "[204]\ttrain-merror:0.00023\tvalid-merror:0.00026\n",
      "[205]\ttrain-merror:0.00023\tvalid-merror:0.00026\n",
      "[206]\ttrain-merror:0.00023\tvalid-merror:0.00026\n",
      "[207]\ttrain-merror:0.00023\tvalid-merror:0.00026\n",
      "[208]\ttrain-merror:0.00023\tvalid-merror:0.00026\n",
      "[209]\ttrain-merror:0.00023\tvalid-merror:0.00026\n",
      "[210]\ttrain-merror:0.00023\tvalid-merror:0.00026\n",
      "[211]\ttrain-merror:0.00023\tvalid-merror:0.00026\n",
      "[212]\ttrain-merror:0.00023\tvalid-merror:0.00026\n",
      "[213]\ttrain-merror:0.00023\tvalid-merror:0.00026\n",
      "[214]\ttrain-merror:0.00023\tvalid-merror:0.00026\n",
      "[215]\ttrain-merror:0.00023\tvalid-merror:0.00026\n",
      "[216]\ttrain-merror:0.00023\tvalid-merror:0.00026\n",
      "[217]\ttrain-merror:0.00023\tvalid-merror:0.00026\n",
      "[218]\ttrain-merror:0.00023\tvalid-merror:0.00026\n",
      "[219]\ttrain-merror:0.00023\tvalid-merror:0.00026\n",
      "[220]\ttrain-merror:0.00023\tvalid-merror:0.00026\n",
      "[221]\ttrain-merror:0.00023\tvalid-merror:0.00026\n",
      "[222]\ttrain-merror:0.00023\tvalid-merror:0.00026\n",
      "[223]\ttrain-merror:0.00023\tvalid-merror:0.00026\n",
      "[224]\ttrain-merror:0.00023\tvalid-merror:0.00026\n",
      "[225]\ttrain-merror:0.00023\tvalid-merror:0.00025\n",
      "[226]\ttrain-merror:0.00023\tvalid-merror:0.00025\n",
      "[227]\ttrain-merror:0.00023\tvalid-merror:0.00025\n",
      "[228]\ttrain-merror:0.00023\tvalid-merror:0.00025\n",
      "[229]\ttrain-merror:0.00023\tvalid-merror:0.00025\n",
      "[230]\ttrain-merror:0.00023\tvalid-merror:0.00025\n",
      "[231]\ttrain-merror:0.00023\tvalid-merror:0.00025\n",
      "[232]\ttrain-merror:0.00023\tvalid-merror:0.00025\n",
      "[233]\ttrain-merror:0.00023\tvalid-merror:0.00025\n",
      "[234]\ttrain-merror:0.00023\tvalid-merror:0.00025\n",
      "[235]\ttrain-merror:0.00023\tvalid-merror:0.00025\n",
      "[236]\ttrain-merror:0.00023\tvalid-merror:0.00025\n",
      "[237]\ttrain-merror:0.00023\tvalid-merror:0.00025\n",
      "[238]\ttrain-merror:0.00023\tvalid-merror:0.00025\n",
      "[239]\ttrain-merror:0.00023\tvalid-merror:0.00025\n",
      "[240]\ttrain-merror:0.00023\tvalid-merror:0.00025\n",
      "[241]\ttrain-merror:0.00023\tvalid-merror:0.00025\n",
      "[242]\ttrain-merror:0.00023\tvalid-merror:0.00025\n",
      "[243]\ttrain-merror:0.00023\tvalid-merror:0.00025\n",
      "[244]\ttrain-merror:0.00023\tvalid-merror:0.00025\n",
      "[245]\ttrain-merror:0.00023\tvalid-merror:0.00025\n",
      "[246]\ttrain-merror:0.00023\tvalid-merror:0.00025\n",
      "[247]\ttrain-merror:0.00023\tvalid-merror:0.00025\n",
      "[248]\ttrain-merror:0.00023\tvalid-merror:0.00025\n",
      "[249]\ttrain-merror:0.00023\tvalid-merror:0.00025\n",
      "[250]\ttrain-merror:0.00023\tvalid-merror:0.00025\n",
      "[251]\ttrain-merror:0.00023\tvalid-merror:0.00025\n",
      "[252]\ttrain-merror:0.00023\tvalid-merror:0.00025\n",
      "[253]\ttrain-merror:0.00023\tvalid-merror:0.00025\n",
      "[254]\ttrain-merror:0.00023\tvalid-merror:0.00025\n",
      "[255]\ttrain-merror:0.00023\tvalid-merror:0.00025\n",
      "[256]\ttrain-merror:0.00023\tvalid-merror:0.00025\n",
      "[257]\ttrain-merror:0.00023\tvalid-merror:0.00025\n",
      "[258]\ttrain-merror:0.00023\tvalid-merror:0.00025\n",
      "[259]\ttrain-merror:0.00023\tvalid-merror:0.00025\n",
      "[260]\ttrain-merror:0.00023\tvalid-merror:0.00025\n",
      "[261]\ttrain-merror:0.00023\tvalid-merror:0.00025\n",
      "[262]\ttrain-merror:0.00023\tvalid-merror:0.00025\n",
      "[263]\ttrain-merror:0.00023\tvalid-merror:0.00025\n",
      "[264]\ttrain-merror:0.00023\tvalid-merror:0.00025\n",
      "[265]\ttrain-merror:0.00023\tvalid-merror:0.00025\n",
      "[266]\ttrain-merror:0.00023\tvalid-merror:0.00025\n",
      "[267]\ttrain-merror:0.00023\tvalid-merror:0.00025\n",
      "[268]\ttrain-merror:0.00023\tvalid-merror:0.00025\n",
      "[269]\ttrain-merror:0.00023\tvalid-merror:0.00025\n",
      "[270]\ttrain-merror:0.00023\tvalid-merror:0.00025\n",
      "[271]\ttrain-merror:0.00023\tvalid-merror:0.00025\n",
      "[272]\ttrain-merror:0.00023\tvalid-merror:0.00025\n",
      "[273]\ttrain-merror:0.00023\tvalid-merror:0.00025\n",
      "[274]\ttrain-merror:0.00023\tvalid-merror:0.00025\n",
      "[275]\ttrain-merror:0.00023\tvalid-merror:0.00025\n",
      "[276]\ttrain-merror:0.00023\tvalid-merror:0.00025\n",
      "[277]\ttrain-merror:0.00023\tvalid-merror:0.00025\n",
      "[278]\ttrain-merror:0.00023\tvalid-merror:0.00025\n",
      "[279]\ttrain-merror:0.00023\tvalid-merror:0.00025\n",
      "[280]\ttrain-merror:0.00023\tvalid-merror:0.00025\n",
      "[281]\ttrain-merror:0.00023\tvalid-merror:0.00025\n",
      "[282]\ttrain-merror:0.00023\tvalid-merror:0.00025\n",
      "[283]\ttrain-merror:0.00023\tvalid-merror:0.00025\n",
      "[284]\ttrain-merror:0.00023\tvalid-merror:0.00025\n",
      "[285]\ttrain-merror:0.00023\tvalid-merror:0.00025\n",
      "[286]\ttrain-merror:0.00023\tvalid-merror:0.00025\n",
      "[287]\ttrain-merror:0.00023\tvalid-merror:0.00025\n",
      "[288]\ttrain-merror:0.00023\tvalid-merror:0.00025\n",
      "[289]\ttrain-merror:0.00023\tvalid-merror:0.00025\n",
      "[290]\ttrain-merror:0.00023\tvalid-merror:0.00025\n",
      "[291]\ttrain-merror:0.00023\tvalid-merror:0.00025\n",
      "[292]\ttrain-merror:0.00023\tvalid-merror:0.00025\n",
      "[293]\ttrain-merror:0.00023\tvalid-merror:0.00025\n",
      "[294]\ttrain-merror:0.00023\tvalid-merror:0.00025\n",
      "[295]\ttrain-merror:0.00023\tvalid-merror:0.00025\n",
      "[296]\ttrain-merror:0.00023\tvalid-merror:0.00025\n",
      "[297]\ttrain-merror:0.00023\tvalid-merror:0.00025\n",
      "[298]\ttrain-merror:0.00023\tvalid-merror:0.00025\n",
      "[299]\ttrain-merror:0.00023\tvalid-merror:0.00025\n",
      "[300]\ttrain-merror:0.00023\tvalid-merror:0.00025\n",
      "[301]\ttrain-merror:0.00023\tvalid-merror:0.00025\n",
      "[302]\ttrain-merror:0.00023\tvalid-merror:0.00025\n",
      "[303]\ttrain-merror:0.00023\tvalid-merror:0.00025\n",
      "[304]\ttrain-merror:0.00023\tvalid-merror:0.00025\n",
      "[305]\ttrain-merror:0.00023\tvalid-merror:0.00025\n",
      "[306]\ttrain-merror:0.00023\tvalid-merror:0.00025\n",
      "[307]\ttrain-merror:0.00023\tvalid-merror:0.00025\n",
      "[308]\ttrain-merror:0.00023\tvalid-merror:0.00025\n",
      "[309]\ttrain-merror:0.00023\tvalid-merror:0.00025\n",
      "[310]\ttrain-merror:0.00023\tvalid-merror:0.00025\n",
      "[311]\ttrain-merror:0.00023\tvalid-merror:0.00025\n",
      "[312]\ttrain-merror:0.00023\tvalid-merror:0.00025\n",
      "[313]\ttrain-merror:0.00023\tvalid-merror:0.00025\n",
      "[314]\ttrain-merror:0.00023\tvalid-merror:0.00025\n",
      "[315]\ttrain-merror:0.00023\tvalid-merror:0.00025\n",
      "[316]\ttrain-merror:0.00023\tvalid-merror:0.00025\n"
     ]
    }
   ],
   "source": [
    "params = {\n",
    "    'max_depth': 3,\n",
    "    'eta': 0.1,\n",
    "    'gamma': 0,\n",
    "    'min_child_weight': 1,\n",
    "    'subsample': 0.8,\n",
    "    'colsample_bytree': 0.8,\n",
    "    'objective': 'multi:softmax',\n",
    "    'num_class': 6,\n",
    "    'eval_metric': 'merror'\n",
    "}\n",
    "\n",
    "model = xgb.train(\n",
    "    params=params,\n",
    "    dtrain=train,\n",
    "    num_boost_round=500,\n",
    "    evals=[(train, 'train') , (valid, 'valid')],\n",
    "    early_stopping_rounds=50\n",
    ")"
   ]
  },
  {
   "cell_type": "code",
   "execution_count": 350,
   "id": "1f4164b3-1b2b-4e39-904b-3c4c62fef06b",
   "metadata": {
    "scrolled": true
   },
   "outputs": [
    {
     "name": "stdout",
     "output_type": "stream",
     "text": [
      "Final model accuracy: 0.9997545695278692\n"
     ]
    }
   ],
   "source": [
    "y_pred = model.predict(valid)\n",
    "\n",
    "accuracy = accuracy_score(y_val, y_pred)\n",
    "print(\"Final model accuracy:\", accuracy)"
   ]
  },
  {
   "cell_type": "code",
   "execution_count": 354,
   "id": "a5d5b7ad-7723-4564-ae13-8d75ed8b60f2",
   "metadata": {},
   "outputs": [
    {
     "data": {
      "text/plain": [
       "{'val_acc': 0.9997545695278692, 'train_acc': 0.9997723298407762}"
      ]
     },
     "execution_count": 354,
     "metadata": {},
     "output_type": "execute_result"
    }
   ],
   "source": [
    "eval(model, X_train=train, X_val=valid)"
   ]
  },
  {
   "cell_type": "code",
   "execution_count": null,
   "id": "04315f67-cb8c-48a5-a8ee-921d72cd2197",
   "metadata": {},
   "outputs": [],
   "source": []
  },
  {
   "cell_type": "code",
   "execution_count": null,
   "id": "07da0da4-fae0-4ff2-9af1-53297dd09514",
   "metadata": {},
   "outputs": [],
   "source": []
  },
  {
   "cell_type": "code",
   "execution_count": null,
   "id": "87c0b7d9-470f-4429-b2fd-ae74a1a62ac3",
   "metadata": {},
   "outputs": [],
   "source": []
  },
  {
   "cell_type": "code",
   "execution_count": null,
   "id": "aee218b8-3dff-40e6-bcc3-016e6c94bd35",
   "metadata": {},
   "outputs": [],
   "source": [
    "def objective(params):\n",
    "    booster = xgb.train(\n",
    "        params=params,\n",
    "        dtrain=train,\n",
    "        num_boost_round=100,\n",
    "        evals=[(valid, \"validation\")],\n",
    "        early_stopping_rounds=20\n",
    "    )\n",
    "    y_pred = booster.predict(valid)\n",
    "    accuracy = accuracy_score(y_val, y_pred)\n",
    "\n",
    "    return {'loss': -accuracy, 'status': STATUS_OK}"
   ]
  },
  {
   "cell_type": "code",
   "execution_count": null,
   "id": "c995f6a4-4e48-466d-8b2b-077a1daef487",
   "metadata": {},
   "outputs": [],
   "source": [
    "search_space = {\n",
    "    'max_depth': scope.int(hp.quniform('max_depth', 4, 100, 1)),\n",
    "    'learning_rate': hp.loguniform('learning_rate', -3, 0),\n",
    "    'reg_alpha': hp.loguniform('reg_alpha', -5, -1),\n",
    "    'reg_lambda': hp.loguniform('reg_lambda', -6, -1),\n",
    "    'min_child_weight': hp.loguniform('min_child_weight', -1, 3),\n",
    "    'objective': 'multi:softprob',\n",
    "    'num_class': 6\n",
    "}\n",
    "\n",
    "best_result = fmin(\n",
    "    fn=objective,\n",
    "    space=search_space,\n",
    "    algo=tpe.suggest,\n",
    "    max_evals=20,\n",
    "    trials=Trials()\n",
    ")"
   ]
  },
  {
   "cell_type": "code",
   "execution_count": null,
   "id": "3b9b95f1-ae53-4e20-8ff1-ae37a99d3bc2",
   "metadata": {},
   "outputs": [],
   "source": []
  },
  {
   "cell_type": "code",
   "execution_count": null,
   "id": "c8d40928-3605-4e8c-8a4e-d6ce7d1ff6a4",
   "metadata": {},
   "outputs": [],
   "source": []
  }
 ],
 "metadata": {
  "kernelspec": {
   "display_name": "Python 3 (ipykernel)",
   "language": "python",
   "name": "python3"
  },
  "language_info": {
   "codemirror_mode": {
    "name": "ipython",
    "version": 3
   },
   "file_extension": ".py",
   "mimetype": "text/x-python",
   "name": "python",
   "nbconvert_exporter": "python",
   "pygments_lexer": "ipython3",
   "version": "3.10.8"
  },
  "widgets": {
   "application/vnd.jupyter.widget-state+json": {
    "state": {},
    "version_major": 2,
    "version_minor": 0
   }
  }
 },
 "nbformat": 4,
 "nbformat_minor": 5
}
