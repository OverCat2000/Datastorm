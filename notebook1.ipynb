{
 "cells": [
  {
   "cell_type": "code",
   "execution_count": 9,
   "id": "72dcc8ea-4869-4152-8e25-3ec8926d8412",
   "metadata": {},
   "outputs": [],
   "source": [
    "import pandas as pd\n",
    "import numpy as np"
   ]
  },
  {
   "cell_type": "code",
   "execution_count": 119,
   "id": "897720e8-3638-444f-8595-9c9c33277554",
   "metadata": {},
   "outputs": [
    {
     "name": "stderr",
     "output_type": "stream",
     "text": [
      "C:\\Users\\malis\\AppData\\Local\\Temp\\ipykernel_7808\\384884337.py:1: DtypeWarning: Columns (3,4,5) have mixed types. Specify dtype option on import or set low_memory=False.\n",
      "  data = pd.read_csv('train_kaggle.csv')\n"
     ]
    }
   ],
   "source": [
    "data = pd.read_csv('train_kaggle.csv')"
   ]
  },
  {
   "cell_type": "code",
   "execution_count": 120,
   "id": "38bcd932-7e40-4004-a53c-97aef034e736",
   "metadata": {},
   "outputs": [
    {
     "data": {
      "text/html": [
       "<div>\n",
       "<style scoped>\n",
       "    .dataframe tbody tr th:only-of-type {\n",
       "        vertical-align: middle;\n",
       "    }\n",
       "\n",
       "    .dataframe tbody tr th {\n",
       "        vertical-align: top;\n",
       "    }\n",
       "\n",
       "    .dataframe thead th {\n",
       "        text-align: right;\n",
       "    }\n",
       "</style>\n",
       "<table border=\"1\" class=\"dataframe\">\n",
       "  <thead>\n",
       "    <tr style=\"text-align: right;\">\n",
       "      <th></th>\n",
       "      <th>Customer_ID</th>\n",
       "      <th>outlet_city</th>\n",
       "      <th>luxury_sales</th>\n",
       "      <th>fresh_sales</th>\n",
       "      <th>dry_sales</th>\n",
       "      <th>cluster_catgeory</th>\n",
       "    </tr>\n",
       "  </thead>\n",
       "  <tbody>\n",
       "    <tr>\n",
       "      <th>0</th>\n",
       "      <td>10493832.0</td>\n",
       "      <td>Kelaniya</td>\n",
       "      <td>1209.6</td>\n",
       "      <td>756.0</td>\n",
       "      <td>5292.0</td>\n",
       "      <td>4</td>\n",
       "    </tr>\n",
       "    <tr>\n",
       "      <th>1</th>\n",
       "      <td>10178643.0</td>\n",
       "      <td>Moratuwa</td>\n",
       "      <td>1590.12</td>\n",
       "      <td>1060.08</td>\n",
       "      <td>6007.12</td>\n",
       "      <td>1</td>\n",
       "    </tr>\n",
       "    <tr>\n",
       "      <th>2</th>\n",
       "      <td>10513916.0</td>\n",
       "      <td>Wattala</td>\n",
       "      <td>2288.88</td>\n",
       "      <td>1481.04</td>\n",
       "      <td>9155.52</td>\n",
       "      <td>4</td>\n",
       "    </tr>\n",
       "    <tr>\n",
       "      <th>3</th>\n",
       "      <td>10334589.0</td>\n",
       "      <td>Wattala</td>\n",
       "      <td>2274.94</td>\n",
       "      <td>1739.66</td>\n",
       "      <td>9099.76</td>\n",
       "      <td>4</td>\n",
       "    </tr>\n",
       "    <tr>\n",
       "      <th>4</th>\n",
       "      <td>10458365.0</td>\n",
       "      <td>Kelaniya</td>\n",
       "      <td>2345.49</td>\n",
       "      <td>2069.55</td>\n",
       "      <td>9243.99</td>\n",
       "      <td>4</td>\n",
       "    </tr>\n",
       "    <tr>\n",
       "      <th>...</th>\n",
       "      <td>...</td>\n",
       "      <td>...</td>\n",
       "      <td>...</td>\n",
       "      <td>...</td>\n",
       "      <td>...</td>\n",
       "      <td>...</td>\n",
       "    </tr>\n",
       "    <tr>\n",
       "      <th>774150</th>\n",
       "      <td>10197979.0</td>\n",
       "      <td>Gampaha</td>\n",
       "      <td>3893.4</td>\n",
       "      <td>3893.4</td>\n",
       "      <td>3448.44</td>\n",
       "      <td>3</td>\n",
       "    </tr>\n",
       "    <tr>\n",
       "      <th>774151</th>\n",
       "      <td>10494575.0</td>\n",
       "      <td>Katunayake</td>\n",
       "      <td>6095.86</td>\n",
       "      <td>5557.99</td>\n",
       "      <td>6275.15</td>\n",
       "      <td>3</td>\n",
       "    </tr>\n",
       "    <tr>\n",
       "      <th>774152</th>\n",
       "      <td>10565682.0</td>\n",
       "      <td>Colombo</td>\n",
       "      <td>5121.42</td>\n",
       "      <td>4820.16</td>\n",
       "      <td>4669.53</td>\n",
       "      <td>3</td>\n",
       "    </tr>\n",
       "    <tr>\n",
       "      <th>774153</th>\n",
       "      <td>10351977.0</td>\n",
       "      <td>Kandy</td>\n",
       "      <td>6311.76</td>\n",
       "      <td>6311.76</td>\n",
       "      <td>5940.48</td>\n",
       "      <td>3</td>\n",
       "    </tr>\n",
       "    <tr>\n",
       "      <th>774154</th>\n",
       "      <td>10637635.0</td>\n",
       "      <td>Negombo</td>\n",
       "      <td>5833.5</td>\n",
       "      <td>6027.95</td>\n",
       "      <td>6611.3</td>\n",
       "      <td>3</td>\n",
       "    </tr>\n",
       "  </tbody>\n",
       "</table>\n",
       "<p>774155 rows × 6 columns</p>\n",
       "</div>"
      ],
      "text/plain": [
       "        Customer_ID outlet_city luxury_sales fresh_sales dry_sales  \\\n",
       "0        10493832.0    Kelaniya       1209.6       756.0    5292.0   \n",
       "1        10178643.0    Moratuwa      1590.12     1060.08   6007.12   \n",
       "2        10513916.0     Wattala      2288.88     1481.04   9155.52   \n",
       "3        10334589.0     Wattala      2274.94     1739.66   9099.76   \n",
       "4        10458365.0    Kelaniya      2345.49     2069.55   9243.99   \n",
       "...             ...         ...          ...         ...       ...   \n",
       "774150   10197979.0     Gampaha       3893.4      3893.4   3448.44   \n",
       "774151   10494575.0  Katunayake      6095.86     5557.99   6275.15   \n",
       "774152   10565682.0     Colombo      5121.42     4820.16   4669.53   \n",
       "774153   10351977.0       Kandy      6311.76     6311.76   5940.48   \n",
       "774154   10637635.0     Negombo       5833.5     6027.95    6611.3   \n",
       "\n",
       "       cluster_catgeory  \n",
       "0                     4  \n",
       "1                     1  \n",
       "2                     4  \n",
       "3                     4  \n",
       "4                     4  \n",
       "...                 ...  \n",
       "774150                3  \n",
       "774151                3  \n",
       "774152                3  \n",
       "774153                3  \n",
       "774154                3  \n",
       "\n",
       "[774155 rows x 6 columns]"
      ]
     },
     "execution_count": 120,
     "metadata": {},
     "output_type": "execute_result"
    }
   ],
   "source": [
    "data"
   ]
  },
  {
   "cell_type": "code",
   "execution_count": 121,
   "id": "a7ba6ce2-6817-4add-8548-210b3ab30900",
   "metadata": {},
   "outputs": [
    {
     "data": {
      "text/plain": [
       "Customer_ID         float64\n",
       "outlet_city          object\n",
       "luxury_sales         object\n",
       "fresh_sales          object\n",
       "dry_sales            object\n",
       "cluster_catgeory     object\n",
       "dtype: object"
      ]
     },
     "execution_count": 121,
     "metadata": {},
     "output_type": "execute_result"
    }
   ],
   "source": [
    "data.dtypes"
   ]
  },
  {
   "cell_type": "code",
   "execution_count": 122,
   "id": "9be623de-f823-43f1-b965-1c0b1f6b619c",
   "metadata": {},
   "outputs": [],
   "source": [
    "df = data.copy()"
   ]
  },
  {
   "cell_type": "code",
   "execution_count": 123,
   "id": "b394685c-b038-40a6-8e0a-1dfc3573215f",
   "metadata": {},
   "outputs": [
    {
     "data": {
      "text/plain": [
       "Customer_ID          2\n",
       "outlet_city          2\n",
       "luxury_sales        35\n",
       "fresh_sales         41\n",
       "dry_sales           30\n",
       "cluster_catgeory     1\n",
       "dtype: int64"
      ]
     },
     "execution_count": 123,
     "metadata": {},
     "output_type": "execute_result"
    }
   ],
   "source": [
    "df.isna().sum()"
   ]
  },
  {
   "cell_type": "code",
   "execution_count": 124,
   "id": "f9277656-aba5-409f-ba44-6b8c478d5477",
   "metadata": {
    "scrolled": true
   },
   "outputs": [
    {
     "name": "stdout",
     "output_type": "stream",
     "text": [
      "Column: Customer_ID\n",
      "Customer_ID\n",
      "10493832.0    1\n",
      "10305453.0    1\n",
      "10129880.0    1\n",
      "10677155.0    1\n",
      "10434221.0    1\n",
      "             ..\n",
      "10177319.0    1\n",
      "10045425.0    1\n",
      "10372098.0    1\n",
      "10066739.0    1\n",
      "10637635.0    1\n",
      "Name: count, Length: 774153, dtype: int64\n",
      "\n",
      "Column: outlet_city\n",
      "outlet_city\n",
      "Colombo                   41031\n",
      "Batticaloa                41012\n",
      "Galle                     41010\n",
      "Kalmunai                  40711\n",
      "Negombo                   40703\n",
      "Jaffna                    40675\n",
      "Katunayake                40649\n",
      "Kandy                     40534\n",
      "Trincomalee               40528\n",
      "Gampaha                   40252\n",
      "Peliyagoda                37151\n",
      "Nuwara Eliya              37102\n",
      "Dehiwala-Mount Lavinia    36839\n",
      "Kotte                     36788\n",
      "Panadura                  36726\n",
      "Wattala                   36721\n",
      "Kaduwela                  36695\n",
      "Homagama                  36639\n",
      "Moratuwa                  36417\n",
      "Kelaniya                  35970\n",
      "Name: count, dtype: int64\n",
      "\n",
      "Column: luxury_sales\n",
      "luxury_sales\n",
      "1029.6     62\n",
      "1411.2     47\n",
      "1224       47\n",
      "1386       46\n",
      "1123.2     45\n",
      "           ..\n",
      "2518.24     1\n",
      "3231.52     1\n",
      "2138.8      1\n",
      "2852.47     1\n",
      "5833.5      1\n",
      "Name: count, Length: 143897, dtype: int64\n",
      "\n",
      "Column: fresh_sales\n",
      "fresh_sales\n",
      "4296.6     28\n",
      "6013.92    28\n",
      "6193.44    26\n",
      "1018.8     25\n",
      "8774.04    25\n",
      "           ..\n",
      "1544.9      1\n",
      "2910.0      1\n",
      "2937.15     1\n",
      "3107.0      1\n",
      "4820.16     1\n",
      "Name: count, Length: 257030, dtype: int64\n",
      "\n",
      "Column: dry_sales\n",
      "dry_sales\n",
      "9168.72    23\n",
      "3506.58    21\n",
      "5085.3     21\n",
      "7782.72    21\n",
      "4158.0     21\n",
      "           ..\n",
      "4090.54     1\n",
      "4220.48     1\n",
      "4625.7      1\n",
      "2594.25     1\n",
      "6611.3      1\n",
      "Name: count, Length: 270131, dtype: int64\n",
      "\n",
      "Column: cluster_catgeory\n",
      "cluster_catgeory\n",
      "1        188975\n",
      "6        169206\n",
      "2        155060\n",
      "4        131039\n",
      "3         48906\n",
      "4         41400\n",
      "5         39531\n",
      "5             9\n",
      "1             9\n",
      "6             8\n",
      "2             4\n",
      "3             1\n",
      "6\\            1\n",
      "95            1\n",
      "98            1\n",
      "99            1\n",
      "100.0         1\n",
      "89.0          1\n",
      "Name: count, dtype: int64\n",
      "\n"
     ]
    }
   ],
   "source": [
    "for column in df.columns:\n",
    "    print(\"Column:\", column)\n",
    "    print(df[column].value_counts())\n",
    "    print()"
   ]
  },
  {
   "cell_type": "code",
   "execution_count": 125,
   "id": "2ca521b6-0f51-4f76-a850-61eca7dee25c",
   "metadata": {},
   "outputs": [
    {
     "data": {
      "text/plain": [
       "array(['4', '1', '99', '2', '5', '3', '6', '6\\\\', 4, 2, 1, 95, 3, 98, 5,\n",
       "       6, nan, 100.0, 89.0], dtype=object)"
      ]
     },
     "execution_count": 125,
     "metadata": {},
     "output_type": "execute_result"
    }
   ],
   "source": [
    "df.cluster_catgeory.unique()"
   ]
  },
  {
   "cell_type": "code",
   "execution_count": 126,
   "id": "e1af3e68-906a-4e61-a535-052b1578af81",
   "metadata": {},
   "outputs": [],
   "source": [
    "df.loc[df[\"cluster_catgeory\"] == '6\\\\', \"cluster_catgeory\"] = 6"
   ]
  },
  {
   "cell_type": "code",
   "execution_count": 127,
   "id": "ab5c83cc-2999-4207-87f5-d2e86008007e",
   "metadata": {
    "scrolled": true
   },
   "outputs": [],
   "source": [
    "df[\"cluster_catgeory\"] = df[\"cluster_catgeory\"].fillna(0)"
   ]
  },
  {
   "cell_type": "code",
   "execution_count": 128,
   "id": "b03dd8da-bf0e-4db4-ae32-7dbcf6708ef8",
   "metadata": {},
   "outputs": [],
   "source": [
    "df[\"cluster_catgeory\"] = df[\"cluster_catgeory\"].astype(int)"
   ]
  },
  {
   "cell_type": "code",
   "execution_count": 129,
   "id": "822e7054-38a4-4153-b814-927fc84acfd8",
   "metadata": {},
   "outputs": [],
   "source": [
    "clusters = [1, 2, 3, 4, 5, 6]\n",
    "df = df[df[\"cluster_catgeory\"].isin(clusters)]"
   ]
  },
  {
   "cell_type": "code",
   "execution_count": 130,
   "id": "c8a3d544-d101-4f6f-ac69-614de02c76ba",
   "metadata": {},
   "outputs": [],
   "source": [
    "df[\"cluster_catgeory\"] = df[\"cluster_catgeory\"].astype(str)"
   ]
  },
  {
   "cell_type": "code",
   "execution_count": 131,
   "id": "5a95bbe8-6419-4c12-a495-6b3af1c47c3d",
   "metadata": {},
   "outputs": [],
   "source": [
    "df = df.dropna(subset=[\"outlet_city\"])"
   ]
  },
  {
   "cell_type": "code",
   "execution_count": 136,
   "id": "6e098011-cd81-4954-90dd-b0e4ad4afec4",
   "metadata": {},
   "outputs": [],
   "source": [
    "df = df.drop(\"Customer_ID\", axis=1)"
   ]
  },
  {
   "cell_type": "code",
   "execution_count": 147,
   "id": "0b56dc77-c59d-4638-806e-4a6836cae703",
   "metadata": {},
   "outputs": [],
   "source": [
    "def check(column):\n",
    "    for value in df[column]:\n",
    "        try:\n",
    "            # Attempt to convert the value to an integer\n",
    "            int_value = float(value)\n",
    "        except ValueError:\n",
    "            # If conversion fails, add the value to the list\n",
    "            #non_integer_values.append(value)\n",
    "            print(value)"
   ]
  },
  {
   "cell_type": "code",
   "execution_count": 148,
   "id": "3ec738e0-e33e-4686-bd16-700b24fbd570",
   "metadata": {},
   "outputs": [
    {
     "name": "stdout",
     "output_type": "stream",
     "text": [
      "Six hundread and five ruppes\n",
      "nul\n",
      "nul\n",
      "Three thousana and five hundread\n",
      "nul\n",
      "nul\n",
      "thirteen thousand ruppes\n",
      "Five thousand ruppes\n",
      "Two thousand seven hundread ruppess\n"
     ]
    }
   ],
   "source": [
    "check(\"\")"
   ]
  },
  {
   "cell_type": "code",
   "execution_count": 145,
   "id": "d56490dc-eecd-4e22-83ea-b5f1ef7bcbba",
   "metadata": {},
   "outputs": [
    {
     "name": "stdout",
     "output_type": "stream",
     "text": [
      "<class 'pandas.core.frame.DataFrame'>\n",
      "Index: 774147 entries, 0 to 774154\n",
      "Data columns (total 5 columns):\n",
      " #   Column            Non-Null Count   Dtype \n",
      "---  ------            --------------   ----- \n",
      " 0   outlet_city       774147 non-null  object\n",
      " 1   luxury_sales      774112 non-null  object\n",
      " 2   fresh_sales       774106 non-null  object\n",
      " 3   dry_sales         774117 non-null  object\n",
      " 4   cluster_catgeory  774147 non-null  object\n",
      "dtypes: object(5)\n",
      "memory usage: 35.4+ MB\n"
     ]
    }
   ],
   "source": [
    "df.info()"
   ]
  },
  {
   "cell_type": "code",
   "execution_count": null,
   "id": "d27916ba-12f7-41d7-921d-6e0ada0e6316",
   "metadata": {},
   "outputs": [],
   "source": []
  }
 ],
 "metadata": {
  "kernelspec": {
   "display_name": "Python 3 (ipykernel)",
   "language": "python",
   "name": "python3"
  },
  "language_info": {
   "codemirror_mode": {
    "name": "ipython",
    "version": 3
   },
   "file_extension": ".py",
   "mimetype": "text/x-python",
   "name": "python",
   "nbconvert_exporter": "python",
   "pygments_lexer": "ipython3",
   "version": "3.10.8"
  },
  "widgets": {
   "application/vnd.jupyter.widget-state+json": {
    "state": {},
    "version_major": 2,
    "version_minor": 0
   }
  }
 },
 "nbformat": 4,
 "nbformat_minor": 5
}
